{
 "cells": [
  {
   "cell_type": "markdown",
   "id": "11b0afb2-b8bf-4484-b8a9-a26fd9e9de57",
   "metadata": {},
   "source": [
    "### Data Science Tools and Ecosystem"
   ]
  },
  {
   "cell_type": "markdown",
   "id": "cc777cef-e62e-4c44-895c-110994ef7c90",
   "metadata": {},
   "source": [
    "In this notebook, Data Science Tools and Ecosystem are summarized."
   ]
  },
  {
   "cell_type": "markdown",
   "id": "4504d0c6-83e0-4f16-a0e5-91205aca855e",
   "metadata": {},
   "source": [
    "Some of the popular languages that Data Scientists use are:\n",
    "1. Python \n",
    "2. R\n",
    "3. SQL\n",
    "4. Java\n",
    "5. Scala\n",
    "6. Julia"
   ]
  },
  {
   "cell_type": "markdown",
   "id": "6413aa4b-370d-441f-a3f0-7035a54ef6c7",
   "metadata": {},
   "source": [
    "Some of the commonly used libraries used by Data Scientists include:\n",
    "1. Pandas\n",
    "2. Numpy\n",
    "3. matplotlib\n",
    "4. Scikit-learn\n",
    "5. tensorflow\n",
    "6. pytorch"
   ]
  },
  {
   "cell_type": "markdown",
   "id": "bd050ec7-2f72-4690-b1ee-9338a80bc837",
   "metadata": {
    "tags": []
   },
   "source": [
    "| Data Science Tools |\n",
    "| ------------------ |\n",
    "| Python             |\n",
    "| R                  |\n",
    "| SQL                |\n",
    "| Jupyter Notebooks  |\n",
    "| Tensorflow         |\n",
    "| Tableu             |\n",
    "| PowerBI            |"
   ]
  },
  {
   "cell_type": "markdown",
   "id": "ac782961-60b1-4abc-a188-781e693e65d2",
   "metadata": {},
   "source": [
    "### Below are a few examples of evaluating arithmetic expressions in Python."
   ]
  },
  {
   "cell_type": "code",
   "execution_count": 4,
   "id": "9746c545-f6c4-4ede-a326-03f74298a536",
   "metadata": {
    "tags": []
   },
   "outputs": [
    {
     "data": {
      "text/plain": [
       "17"
      ]
     },
     "execution_count": 4,
     "metadata": {},
     "output_type": "execute_result"
    }
   ],
   "source": [
    "#This a simple arithmetic expression to mutiply then add integers\n",
    "(3*4)+5"
   ]
  },
  {
   "cell_type": "code",
   "execution_count": 5,
   "id": "9676bd0a-0de5-4d16-b497-dc3a3556641a",
   "metadata": {
    "tags": []
   },
   "outputs": [
    {
     "data": {
      "text/plain": [
       "3.3333333333333335"
      ]
     },
     "execution_count": 5,
     "metadata": {},
     "output_type": "execute_result"
    }
   ],
   "source": [
    "#This will convert 200 minutes to hours by diving by 60\n",
    "200/60"
   ]
  },
  {
   "cell_type": "markdown",
   "id": "1585cf8a-cdc4-4861-9359-d9f52d1d9eb5",
   "metadata": {},
   "source": [
    "## Author\n",
    "Hemasri Yetukuri"
   ]
  },
  {
   "cell_type": "code",
   "execution_count": null,
   "id": "bcaf50be-fabb-4831-b60f-5881631af770",
   "metadata": {},
   "outputs": [],
   "source": []
  }
 ],
 "metadata": {
  "kernelspec": {
   "display_name": "Python",
   "language": "python",
   "name": "conda-env-python-py"
  },
  "language_info": {
   "codemirror_mode": {
    "name": "ipython",
    "version": 3
   },
   "file_extension": ".py",
   "mimetype": "text/x-python",
   "name": "python",
   "nbconvert_exporter": "python",
   "pygments_lexer": "ipython3",
   "version": "3.7.12"
  }
 },
 "nbformat": 4,
 "nbformat_minor": 5
}
